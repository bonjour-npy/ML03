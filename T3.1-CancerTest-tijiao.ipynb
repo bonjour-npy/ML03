{
 "cells": [
  {
   "cell_type": "markdown",
   "id": "8940a26c",
   "metadata": {},
   "source": [
    "##  实验三   支持向量机\n",
    "### 第1题  肺癌数据预测"
   ]
  },
  {
   "cell_type": "code",
   "execution_count": null,
   "id": "c5a25a2b",
   "metadata": {},
   "outputs": [],
   "source": [
    "from sklearn.svm import SVC\n",
    "from sklearn.datasets import load_breast_cancer\n",
    "from sklearn.model_selection import train_test_split\n",
    "import matplotlib.pyplot as plt\n",
    "from matplotlib.colors import ListedColormap\n",
    "\n",
    "# 导入肺癌数据集\n",
    "data = load_breast_cancer()\n",
    "X = data['data']\n",
    "y = data['target']\n",
    "print(X.shape)\n",
    "    \n",
    "x_train, x_test, y_train, y_test = train_test_split(X, y, test_size=0.3)\n",
    "\n",
    "# 建立支持向量机模型\n",
    "clf1 = SVC(kernel='linear')    #线性核函数\n",
    "clf2 = SVC(kernel='rbf', C=10, gamma=0.0001) #采用高斯核函数\n",
    "clf1.fit(x_train, y_train)\n",
    "clf2.fit(x_train, y_train)\n",
    "\n",
    "# 输出两种支持向量机模型的精度。此处填入你的代码。（1）\n",
    "\n"
   ]
  },
  {
   "cell_type": "code",
   "execution_count": null,
   "id": "9e826fd4",
   "metadata": {},
   "outputs": [],
   "source": []
  }
 ],
 "metadata": {
  "kernelspec": {
   "display_name": "Python 3 (ipykernel)",
   "language": "python",
   "name": "python3"
  },
  "language_info": {
   "codemirror_mode": {
    "name": "ipython",
    "version": 3
   },
   "file_extension": ".py",
   "mimetype": "text/x-python",
   "name": "python",
   "nbconvert_exporter": "python",
   "pygments_lexer": "ipython3",
   "version": "3.10.9"
  }
 },
 "nbformat": 4,
 "nbformat_minor": 5
}
